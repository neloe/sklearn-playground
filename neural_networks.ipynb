{
 "cells": [
  {
   "cell_type": "code",
   "execution_count": 1,
   "metadata": {},
   "outputs": [],
   "source": [
    "from sklearn.neural_network import MLPClassifier\n",
    "from sklearn.datasets import load_digits\n",
    "from sklearn.model_selection import train_test_split\n",
    "\n",
    "digits = load_digits()\n",
    "classifier = MLPClassifier()\n",
    "data = digits.data\n",
    "target = digits.target\n",
    "\n",
    "data_train, data_test, target_train, target_test = train_test_split(data, target)"
   ]
  },
  {
   "cell_type": "code",
   "execution_count": 2,
   "metadata": {},
   "outputs": [
    {
     "data": {
      "text/plain": [
       "MLPClassifier(activation='relu', alpha=0.0001, batch_size='auto', beta_1=0.9,\n",
       "              beta_2=0.999, early_stopping=False, epsilon=1e-08,\n",
       "              hidden_layer_sizes=(100,), learning_rate='constant',\n",
       "              learning_rate_init=0.001, max_iter=200, momentum=0.9,\n",
       "              n_iter_no_change=10, nesterovs_momentum=True, power_t=0.5,\n",
       "              random_state=None, shuffle=True, solver='adam', tol=0.0001,\n",
       "              validation_fraction=0.1, verbose=False, warm_start=False)"
      ]
     },
     "execution_count": 2,
     "metadata": {},
     "output_type": "execute_result"
    }
   ],
   "source": [
    "classifier.fit(data_train, target_train)"
   ]
  },
  {
   "cell_type": "code",
   "execution_count": 3,
   "metadata": {},
   "outputs": [
    {
     "data": {
      "text/plain": [
       "array([4, 7, 4, 4, 9, 0, 3, 5, 2, 6, 3, 7, 8, 6, 1, 9, 2, 2, 9, 5, 9, 5,\n",
       "       1, 0, 7, 3, 5, 3, 5, 7, 3, 8, 6, 7, 6, 3, 9, 5, 5, 1, 9, 4, 1, 0,\n",
       "       4, 7, 7, 5, 2, 6, 7, 3, 5, 9, 8, 8, 0, 7, 0, 4, 1, 0, 7, 8, 3, 7,\n",
       "       8, 5, 1, 6, 0, 1, 7, 4, 5, 5, 4, 5, 0, 6, 6, 2, 6, 7, 8, 8, 2, 8,\n",
       "       7, 5, 6, 7, 2, 7, 3, 2, 8, 8, 6, 6, 1, 0, 2, 9, 9, 5, 7, 5, 8, 2,\n",
       "       8, 4, 4, 4, 6, 2, 7, 4, 0, 7, 0, 0, 9, 7, 3, 9, 9, 0, 7, 1, 1, 8,\n",
       "       2, 5, 8, 2, 9, 0, 4, 5, 6, 5, 0, 5, 0, 6, 7, 7, 8, 4, 2, 2, 6, 2,\n",
       "       5, 6, 1, 1, 4, 2, 7, 7, 6, 9, 5, 8, 4, 1, 2, 1, 5, 2, 6, 5, 1, 9,\n",
       "       7, 0, 8, 3, 7, 3, 1, 2, 6, 9, 2, 0, 0, 8, 2, 5, 8, 2, 1, 0, 6, 6,\n",
       "       8, 9, 9, 9, 1, 8, 1, 3, 6, 0, 5, 8, 9, 2, 0, 2, 0, 7, 6, 4, 2, 9,\n",
       "       6, 8, 3, 5, 1, 6, 7, 7, 0, 5, 2, 0, 0, 2, 1, 4, 0, 4, 0, 0, 0, 4,\n",
       "       1, 1, 8, 0, 6, 1, 4, 5, 3, 2, 1, 7, 8, 0, 5, 9, 3, 4, 3, 1, 5, 1,\n",
       "       9, 4, 6, 2, 1, 6, 2, 4, 6, 1, 4, 1, 7, 0, 6, 6, 8, 5, 1, 6, 6, 3,\n",
       "       4, 9, 9, 2, 4, 1, 4, 9, 5, 6, 6, 6, 7, 0, 4, 9, 8, 5, 7, 1, 6, 4,\n",
       "       1, 4, 2, 9, 5, 0, 1, 1, 4, 5, 4, 3, 2, 5, 9, 4, 2, 7, 2, 8, 7, 6,\n",
       "       3, 0, 1, 1, 1, 4, 2, 5, 0, 5, 4, 0, 9, 7, 5, 2, 3, 9, 9, 1, 1, 1,\n",
       "       5, 9, 4, 8, 7, 2, 8, 5, 1, 5, 7, 8, 5, 5, 1, 8, 1, 0, 0, 5, 9, 8,\n",
       "       0, 7, 7, 1, 8, 8, 1, 3, 5, 2, 9, 5, 6, 1, 0, 1, 6, 3, 0, 5, 5, 5,\n",
       "       7, 7, 8, 3, 1, 2, 7, 9, 1, 4, 3, 9, 1, 7, 1, 7, 2, 8, 1, 5, 9, 4,\n",
       "       7, 5, 3, 9, 4, 5, 0, 0, 9, 9, 3, 5, 6, 9, 7, 2, 1, 5, 3, 8, 6, 3,\n",
       "       5, 2, 5, 0, 6, 6, 6, 5, 2, 6])"
      ]
     },
     "execution_count": 3,
     "metadata": {},
     "output_type": "execute_result"
    }
   ],
   "source": [
    "classifier.predict(data_test)"
   ]
  },
  {
   "cell_type": "code",
   "execution_count": 8,
   "metadata": {},
   "outputs": [
    {
     "data": {
      "text/plain": [
       "7"
      ]
     },
     "execution_count": 8,
     "metadata": {},
     "output_type": "execute_result"
    }
   ],
   "source": [
    "sum(classifier.predict(data_test) != target_test)"
   ]
  },
  {
   "cell_type": "code",
   "execution_count": 9,
   "metadata": {},
   "outputs": [
    {
     "data": {
      "text/plain": [
       "0.015555555555555555"
      ]
     },
     "execution_count": 9,
     "metadata": {},
     "output_type": "execute_result"
    }
   ],
   "source": [
    "7/450"
   ]
  },
  {
   "cell_type": "code",
   "execution_count": 10,
   "metadata": {},
   "outputs": [
    {
     "data": {
      "text/plain": [
       "1797"
      ]
     },
     "execution_count": 10,
     "metadata": {},
     "output_type": "execute_result"
    }
   ],
   "source": [
    "len(data)"
   ]
  },
  {
   "cell_type": "code",
   "execution_count": 12,
   "metadata": {},
   "outputs": [
    {
     "data": {
      "text/plain": [
       "0.25041736227045075"
      ]
     },
     "execution_count": 12,
     "metadata": {},
     "output_type": "execute_result"
    }
   ],
   "source": [
    "450/1797"
   ]
  },
  {
   "cell_type": "code",
   "execution_count": 14,
   "metadata": {},
   "outputs": [],
   "source": [
    "from sklearn.neighbors import KNeighborsClassifier"
   ]
  },
  {
   "cell_type": "code",
   "execution_count": 15,
   "metadata": {},
   "outputs": [
    {
     "data": {
      "text/plain": [
       "KNeighborsClassifier(algorithm='auto', leaf_size=30, metric='minkowski',\n",
       "                     metric_params=None, n_jobs=None, n_neighbors=5, p=2,\n",
       "                     weights='uniform')"
      ]
     },
     "execution_count": 15,
     "metadata": {},
     "output_type": "execute_result"
    }
   ],
   "source": [
    "knn = KNeighborsClassifier()\n",
    "knn.fit(data_train, target_train)"
   ]
  },
  {
   "cell_type": "code",
   "execution_count": 17,
   "metadata": {},
   "outputs": [
    {
     "data": {
      "text/plain": [
       "5"
      ]
     },
     "execution_count": 17,
     "metadata": {},
     "output_type": "execute_result"
    }
   ],
   "source": [
    "sum(knn.predict(data_test) != target_test)"
   ]
  },
  {
   "cell_type": "code",
   "execution_count": 18,
   "metadata": {},
   "outputs": [
    {
     "data": {
      "text/plain": [
       "0.011111111111111112"
      ]
     },
     "execution_count": 18,
     "metadata": {},
     "output_type": "execute_result"
    }
   ],
   "source": [
    "5/450"
   ]
  },
  {
   "cell_type": "code",
   "execution_count": 20,
   "metadata": {},
   "outputs": [],
   "source": [
    "from sklearn.datasets import load_boston\n",
    "\n",
    "boston = load_boston()\n",
    "bdata = boston.data\n",
    "btarget = boston.target\n",
    "\n",
    "bdtrain, bdtest, bttrain, bttest = train_test_split(bdata, btarget)"
   ]
  },
  {
   "cell_type": "code",
   "execution_count": 32,
   "metadata": {},
   "outputs": [
    {
     "name": "stderr",
     "output_type": "stream",
     "text": [
      "C:\\Users\\squishy\\Anaconda3\\lib\\site-packages\\sklearn\\neural_network\\multilayer_perceptron.py:566: ConvergenceWarning: Stochastic Optimizer: Maximum iterations (1000) reached and the optimization hasn't converged yet.\n",
      "  % self.max_iter, ConvergenceWarning)\n"
     ]
    },
    {
     "data": {
      "text/plain": [
       "MLPRegressor(activation='relu', alpha=0.0001, batch_size='auto', beta_1=0.9,\n",
       "             beta_2=0.999, early_stopping=False, epsilon=1e-08,\n",
       "             hidden_layer_sizes=(100,), learning_rate='constant',\n",
       "             learning_rate_init=0.001, max_iter=1000, momentum=0.9,\n",
       "             n_iter_no_change=10, nesterovs_momentum=True, power_t=0.5,\n",
       "             random_state=None, shuffle=True, solver='adam', tol=0.0001,\n",
       "             validation_fraction=0.1, verbose=False, warm_start=False)"
      ]
     },
     "execution_count": 32,
     "metadata": {},
     "output_type": "execute_result"
    }
   ],
   "source": [
    "from sklearn.neural_network import MLPRegressor\n",
    "from sklearn.preprocessing import StandardScaler\n",
    "scaler = StandardScaler()\n",
    "scaler.fit(bdtrain)\n",
    "bdtrain = scaler.transform(bdtrain)\n",
    "nn = MLPRegressor(max_iter=1000)\n",
    "nn.fit(bdtrain, bttrain)"
   ]
  },
  {
   "cell_type": "code",
   "execution_count": 33,
   "metadata": {},
   "outputs": [],
   "source": [
    "scaler.fit(bdtest)\n",
    "bdtest = scaler.transform(bdtest)"
   ]
  },
  {
   "cell_type": "code",
   "execution_count": 34,
   "metadata": {},
   "outputs": [
    {
     "data": {
      "text/plain": [
       "array([15.6698485])"
      ]
     },
     "execution_count": 34,
     "metadata": {},
     "output_type": "execute_result"
    }
   ],
   "source": [
    "\n",
    "nn.predict([bdtest[0]])"
   ]
  },
  {
   "cell_type": "code",
   "execution_count": 26,
   "metadata": {},
   "outputs": [
    {
     "data": {
      "text/plain": [
       "15.2"
      ]
     },
     "execution_count": 26,
     "metadata": {},
     "output_type": "execute_result"
    }
   ],
   "source": [
    "bttest[0]"
   ]
  },
  {
   "cell_type": "code",
   "execution_count": null,
   "metadata": {},
   "outputs": [],
   "source": []
  }
 ],
 "metadata": {
  "kernelspec": {
   "display_name": "Python 3",
   "language": "python",
   "name": "python3"
  },
  "language_info": {
   "codemirror_mode": {
    "name": "ipython",
    "version": 3
   },
   "file_extension": ".py",
   "mimetype": "text/x-python",
   "name": "python",
   "nbconvert_exporter": "python",
   "pygments_lexer": "ipython3",
   "version": "3.7.3"
  }
 },
 "nbformat": 4,
 "nbformat_minor": 4
}
