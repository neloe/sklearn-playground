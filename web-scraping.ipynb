{
 "cells": [
  {
   "cell_type": "code",
   "execution_count": 1,
   "metadata": {},
   "outputs": [
    {
     "name": "stdout",
     "output_type": "stream",
     "text": [
      "<Response [200]>\n"
     ]
    }
   ],
   "source": [
    "import requests\n",
    "\n",
    "URL = 'https://www.anandtech.com/show/15104/amd-adds-radeon-rx-5300m-to-mobile-gpu-lineup'\n",
    "\n",
    "page = requests.get(URL)\n",
    "\n",
    "print(page)"
   ]
  },
  {
   "cell_type": "code",
   "execution_count": 15,
   "metadata": {},
   "outputs": [
    {
     "name": "stdout",
     "output_type": "stream",
     "text": [
      "AMD Radeon RX Series Mobile Specification Comparison\n"
     ]
    }
   ],
   "source": [
    "#print(page.text)\n",
    "from bs4 import BeautifulSoup\n",
    "soup = BeautifulSoup(page.text, 'html5lib')\n",
    "my_dict = {'class': 'articleContent'}\n",
    "#print(my_dict)\n",
    "#print(my_dict['class'])\n",
    "article = soup.find('div', {'class': 'articleContent'})\n",
    "#print(article)\n",
    "table = article.find('table')\n",
    "#print(table)\n",
    "rows = table.find_all('tr')\n",
    "#print(rows[0])\n",
    "title = rows[0].find('td').text\n"
   ]
  },
  {
   "cell_type": "code",
   "execution_count": 18,
   "metadata": {},
   "outputs": [
    {
     "name": "stdout",
     "output_type": "stream",
     "text": [
      "['AMD Radeon RX 5300M', 'AMD Radeon RX 5500M', 'AMD Radeon Vega Pro 20', 'AMD Radeon RX 560X']\n"
     ]
    }
   ],
   "source": [
    "#print(rows[1].find_all('td'))\n",
    "headers = []\n",
    "for cell in rows[1].find_all('td')[1:]:\n",
    "    headers.append(cell.text)\n",
    "print(headers)"
   ]
  },
  {
   "cell_type": "code",
   "execution_count": 22,
   "metadata": {},
   "outputs": [
    {
     "name": "stdout",
     "output_type": "stream",
     "text": [
      "{'CUs': ['22', '22', '20', '14/16'], 'Texture Units': ['88', '88', '80', '64'], 'ROPs': ['32', '32', '32', '16'], 'Game Clock': ['1181MHz', '1448MHz', 'N/A', 'N/A'], 'Boost Clock': ['1445MHz', '1645MHz', '1300MHz', '1275MHz'], 'Throughput (FP32)': ['4.1 TFLOPs', '4.6 TFLOPs', '3.3 TFLOPs', '2.6 TFLOPs'], 'Memory Clock': ['14 Gbps GDDR6', '14 Gbps GDDR6', '1.5 Gbps HBM2', '7 Gbps GDDR5'], 'Memory Bus Width': ['96-bit', '128-bit', '1024-bit', '128-bit'], 'Max VRAM': ['3GB', '4GB', '4GB', '4GB'], 'Typical Board Power': ['?', '85W', '?', '?'], 'Architecture': ['RDNA (1)', 'RDNA (1)', 'Vega\\n\\t\\t\\t(GCN 5)', 'GCN 4'], 'GPU': ['Navi 14', 'Navi 14', 'Vega 12', 'Polaris 11'], 'Launch Date': ['Q4 2019', 'Q4 2019', '10/2018', '04/2018']}\n"
     ]
    }
   ],
   "source": [
    "table_data = dict()\n",
    "for row in rows[2:]:\n",
    "    values = []\n",
    "    for cell in row.find_all('td')[1:]:\n",
    "        values.append(cell.text)\n",
    "    title=row.find_all('td')[0].text\n",
    "    table_data[title] = values\n",
    "print(table_data)\n"
   ]
  },
  {
   "cell_type": "markdown",
   "metadata": {},
   "source": [
    "# \"Complicated\" Example: NW Course Offerings"
   ]
  },
  {
   "cell_type": "code",
   "execution_count": 23,
   "metadata": {},
   "outputs": [],
   "source": [
    "SEM_CODE = '202020'\n",
    "DEPT_CODE = 'CSIS'\n",
    "\n",
    "TARGET = 'https://ssb.nwmissouri.edu/pls/PRODDAD/nwcrse.P_Displaydata'\n",
    "\n",
    "post_args = {'term_code': SEM_CODE, 'subj_code': DEPT_CODE}\n",
    "\n",
    "page = requests.post(TARGET, data = post_args)"
   ]
  },
  {
   "cell_type": "code",
   "execution_count": 31,
   "metadata": {},
   "outputs": [
    {
     "name": "stdout",
     "output_type": "stream",
     "text": [
      "<tr align=\"left\">\n",
      "<th class=\"ddheader\" scope=\"col\">CRN</th>\n",
      "<th class=\"ddheader\" scope=\"col\">Camp</th>\n",
      "<th class=\"ddheader\" scope=\"col\">Crse#</th>\n",
      "<th class=\"ddheader\" scope=\"col\">Sec</th>\n",
      "<th class=\"ddheader\" scope=\"col\">Schd Type</th>\n",
      "<th class=\"ddheader\" scope=\"col\">Credit hrs</th>\n",
      "<th class=\"ddheader\" scope=\"col\">Title</th>\n",
      "<th class=\"ddheader\" scope=\"col\">Part term</th>\n",
      "<th class=\"ddheader\" scope=\"col\">Days</th>\n",
      "<th class=\"ddheader\" scope=\"col\">Time</th>\n",
      "<th class=\"ddheader\" scope=\"col\">Location</th>\n",
      "<th class=\"ddheader\" scope=\"col\">Seats</th>\n",
      "<th class=\"ddheader\" scope=\"col\">Enrld</th>\n",
      "<th class=\"ddheader\" scope=\"col\">Open</th>\n",
      "<th class=\"ddheader\" scope=\"col\">Waitlist Max</th>\n",
      "<th class=\"ddheader\" scope=\"col\">Waitlist Count</th>\n",
      "<th class=\"ddheader\" scope=\"col\">Waitlist Open</th>\n",
      "<th class=\"ddheader\" scope=\"col\">Instructor</th>\n",
      "<th class=\"ddheader\" scope=\"col\">Attribute</th>\n",
      "<th class=\"ddheader\" scope=\"col\">Message</th>\n",
      "</tr>\n"
     ]
    }
   ],
   "source": [
    "soup2 = BeautifulSoup(page.text, 'html5lib')\n",
    "courses = soup2.find('table', {'class': 'datadisplaytable'})\n",
    "#print(courses)\n",
    "rows = courses.find_all('tr')\n",
    "print(rows[0])"
   ]
  },
  {
   "cell_type": "code",
   "execution_count": 32,
   "metadata": {},
   "outputs": [
    {
     "name": "stdout",
     "output_type": "stream",
     "text": [
      "MANAGEMENT INFORMATION SYSTEMS\n",
      "MANAGEMENT INFORMATION SYSTEMS\n",
      "MANAGEMENT INFORMATION SYSTEMS\n",
      "MANAGEMENT INFORMATION SYSTEMS\n",
      "MANAGEMENT INFORMATION SYSTEMS\n",
      "MANAGEMENT INFORMATION SYSTEMS\n",
      "MANAGEMENT INFORMATION SYSTEMS\n",
      "ADVANCED WORD PROCESSING\n",
      "ADVANCED WORD PROCESSING\n",
      "PRESENTATION GRAPHICS\n",
      "PRESENTATION GRAPHICS\n",
      "SCRIPT PROGRAMMING\n",
      "DIGITAL MEDIA\n",
      "DIGITAL MEDIA\n",
      "COMPUTER ORGANIZATION\n",
      "COMPUTER ORGANIZATION\n",
      "SURVEY OF ALGORITHMS\n",
      "FOUNDATIONS OF GAME DEV\n",
      "NETWORK FUNDAMENTALS\n",
      "NETWORK FUNDAMENTALS\n",
      "NETWORK FUNDAMENTALS\n",
      "NETWORK FUNDAMENTALS\n",
      "NETWORK FUNDAMENTALS\n",
      "NETWORK FUNDAMENTALS\n",
      "SECURE SYSTEM ADMINISTRATION\n",
      "IT PROJECT MANAGEMENT\n",
      "KNACKTIVE\n",
      "BI AND ANALYTICS\n",
      "MOBILE COMPUTING - iOS\n",
      "MOBILE COMPUTING - ANDROID\n",
      "MOBILE COMPUTING - ANDROID\n",
      "DATABASE SYSTEMS\n",
      "DATABASE SYSTEMS\n",
      "DATABASE SYSTEMS\n",
      "IMPLEMENTING BUS/MRKT ED PROG\n",
      "IMPLEMENTING BUS/MRKT ED PROG\n",
      "METHODS TEACHING BUS/MRKT\n",
      "METHODS TEACHING BUS/MRKT\n",
      "ETHICAL HACKING\n",
      "CYBER RISK MGMT & INC RES\n",
      "INTERNSHIP\n",
      "INTERNSHIP\n",
      "INTERNSHIP\n",
      "IND STUDY COMPUTER SCIENC\n",
      "IND STUDY COMPUTER SCIENCE\n",
      "IND STUDY COMPUTER SCIENC\n",
      "IND STUDY COMPUTER SCIENC\n",
      "IND STUDY COMPUTER SCIENC\n",
      "IND STUDY COMPUTER SCIENC\n",
      "IND STUDY COMPUTER SCIENC\n",
      "IND STUDY COMPUTER SCIENC\n",
      "IND STUDY COMPUTER SCIENC\n",
      "BIG DATA\n",
      "BIG DATA\n",
      "WEB MINING\n",
      "OBJECT-ORIENTED PROG\n",
      "OBJECT-ORIENTED PROG\n",
      "OBJECT-ORIENTED PROG\n",
      "OBJECT-ORIENTED PROG\n",
      "ADV TOPICS IN DB SYSTEMS\n",
      "ADV TOPICS IN DB SYSTEMS\n",
      "SOFTWARE ENGINEERING PRACTICE\n",
      "DEVEL WEB APPS AND SERV\n",
      "DEVEL WEB APPS AND SERV\n",
      "DEVEL WEB APPS AND SERV\n",
      "SP PROJ: MACHINE LEARNING\n",
      "SP PROJ: SURVEY OF ALGORITHMS\n",
      "SP PROJ: GAME DEVELOPMENT\n",
      "SP PROJ: VIRTUAL REALITY\n",
      "PROJECT MGMT IN BUS & TECH\n",
      "PROJECT MGMT IN BUS & TECH\n",
      "BI AND ANALYTICS\n",
      "BI AND ANALYTICS\n",
      "DESIGN INSTRUCTIONAL SYST\n",
      "DESIGN INSTRUCTIONAL SYST\n",
      "FINANCIAL MODELING\n",
      "OBJECT-ORIENTED SYSTEMS\n",
      "OBJECT-ORIENTED SYSTEMS\n",
      "MOBILE COMPUTING - iOS\n",
      "MOBILE COMPUTING - ANDROID\n",
      "MOBILE COMPUTING - ANDROID\n",
      "ENTERPRISE NETWORKING\n",
      "ENTERPRISE NETWORKING\n",
      "DB DESIGN & IMPLEMENT\n",
      "APP DEVELOPMENT IN C#.NET\n",
      "GRAD DIRECT PROJECT II\n",
      "GRAD DIRECT PROJECT II\n",
      "GRAD DIRECT PROJECT II\n",
      "GRAD DIRECT PROJECT II\n",
      "IS CAPSTONE PROJECT\n",
      "CT: APP DESIGN-PATRN & FRAMWRK\n",
      "CT: APP DESIGN-PATRN & FRAMWRK\n",
      "ADV IND STUDY\n",
      "ADV IND STUDY\n",
      "ADV IND STUDY\n",
      "GRADUATE INTERNSHIP IN IT\n",
      "GRADUATE INTERNSHIP IN IT\n"
     ]
    }
   ],
   "source": [
    "for row in rows[1:]:\n",
    "    cells = row.find_all('td')\n",
    "    if int(cells[2].text) >= 44300:\n",
    "        print(cells[6].text)"
   ]
  },
  {
   "cell_type": "code",
   "execution_count": 33,
   "metadata": {},
   "outputs": [
    {
     "name": "stdout",
     "output_type": "stream",
     "text": [
      "[1, 2, 3, 4, 5]\n",
      "[5, 4, 3, 2, 1]\n"
     ]
    }
   ],
   "source": [
    "l = [1,2,3,4,5]\n",
    "print(l)\n",
    "print(l[::-1])"
   ]
  },
  {
   "cell_type": "code",
   "execution_count": null,
   "metadata": {},
   "outputs": [],
   "source": []
  }
 ],
 "metadata": {
  "kernelspec": {
   "display_name": "Python 3",
   "language": "python",
   "name": "python3"
  },
  "language_info": {
   "codemirror_mode": {
    "name": "ipython",
    "version": 3
   },
   "file_extension": ".py",
   "mimetype": "text/x-python",
   "name": "python",
   "nbconvert_exporter": "python",
   "pygments_lexer": "ipython3",
   "version": "3.7.3"
  }
 },
 "nbformat": 4,
 "nbformat_minor": 4
}
