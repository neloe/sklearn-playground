{
 "cells": [
  {
   "cell_type": "code",
   "execution_count": null,
   "id": "organized-resort",
   "metadata": {},
   "outputs": [],
   "source": [
    "# thanks https://github.com/aleaxit/gmpy/issues/116 !\n",
    "import gmpy2\n",
    "\n",
    "def str2int(s):\n",
    "    return gmpy2.pack(list(s.encode()), 8)\n",
    "\n",
    "def int2str(n):\n",
    "    return bytes(gmpy2.unpack(gmpy2.mpz(n), 8)).decode()"
   ]
  }
 ],
 "metadata": {
  "kernelspec": {
   "display_name": "Python 3",
   "language": "python",
   "name": "python3"
  },
  "language_info": {
   "codemirror_mode": {
    "name": "ipython",
    "version": 3
   },
   "file_extension": ".py",
   "mimetype": "text/x-python",
   "name": "python",
   "nbconvert_exporter": "python",
   "pygments_lexer": "ipython3",
   "version": "3.9.2"
  }
 },
 "nbformat": 4,
 "nbformat_minor": 5
}
